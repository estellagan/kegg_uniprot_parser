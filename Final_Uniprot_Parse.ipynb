{
 "cells": [
  {
   "cell_type": "code",
   "execution_count": 464,
   "id": "839f3607",
   "metadata": {},
   "outputs": [],
   "source": [
    "%run genome_functions.ipynb"
   ]
  },
  {
   "cell_type": "code",
   "execution_count": 459,
   "id": "9f628082",
   "metadata": {},
   "outputs": [],
   "source": [
    "soup = BeautifulSoup(uniprot_content, 'html.parser')"
   ]
  },
  {
   "cell_type": "code",
   "execution_count": 460,
   "id": "ed8596cb-8ebc-4e21-806d-900c58546a4c",
   "metadata": {},
   "outputs": [
    {
     "name": "stdout",
     "output_type": "stream",
     "text": [
      "Processing: https://www.kegg.jp/pathway/mmu00290\n",
      "Webpage loaded successfully!\n",
      "Webpage loaded successfully!\n",
      "Webpage loaded successfully!\n",
      "Webpage loaded successfully!\n",
      "Webpage loaded successfully!\n",
      "Saved: Valine_leucine_and_isoleucine_biosynthesis.txt\n",
      "\n",
      "Processing: https://www.kegg.jp/pathway/mmu00300\n",
      "Webpage loaded successfully!\n",
      "Webpage loaded successfully!\n",
      "Saved: Lysine_biosynthesis.txt\n",
      "\n"
     ]
    }
   ],
   "source": [
    "# === Batch Processing from File ===\n",
    "\n",
    "# Path to your input file containing KEGG pathway links\n",
    "input_file = \"kegg_links.txt\"  # <-- Change this if your file has a different name\n",
    "\n",
    "# Open the input file and process each link line-by-line\n",
    "with open(input_file, \"r\", encoding=\"utf-8\") as infile:\n",
    "    for line in infile:\n",
    "        url = line.strip()\n",
    "        if not url:\n",
    "            continue  # skip blank lines\n",
    "\n",
    "        print(f\"Processing: {url}\")\n",
    "        uniprot_content = load_webpage(url)\n",
    "        if not uniprot_content:\n",
    "            print(f\"Failed to load {url}\")\n",
    "            continue\n",
    "\n",
    "        # === Get output filename based on KEGG pathway title ===\n",
    "        pathway_name = extract_kegg_pathway_name(uniprot_content)\n",
    "        safe_filename = re.sub(r'[^\\w\\s-]', '', pathway_name).strip().replace(' ', '_') + \".txt\"\n",
    "\n",
    "        # === Extract mmu entries ===\n",
    "        results = extract_mmu_entries(uniprot_content)\n",
    "        seen_uniprot_ids = set()\n",
    "\n",
    "        # === Write results to file ===\n",
    "        with open(safe_filename, \"w\", encoding=\"utf-8\") as f:\n",
    "            f.write(\"UniProt_ID\\tSubcellular_Location(s)\\n\")\n",
    "\n",
    "            for text in results:\n",
    "                mmu_url = \"https://www.kegg.jp\" + text\n",
    "                mmu_content = load_webpage(mmu_url)\n",
    "                if not mmu_content:\n",
    "                    continue\n",
    "\n",
    "                uniprot_results = extract_uniprot(mmu_content)\n",
    "\n",
    "                for result in uniprot_results:\n",
    "                    uniprot_id = result[1]\n",
    "                    if uniprot_id in seen_uniprot_ids:\n",
    "                        continue\n",
    "                    seen_uniprot_ids.add(uniprot_id)\n",
    "\n",
    "                    uniprot_status = get_uniprot_entry_status(uniprot_id)\n",
    "\n",
    "                    if uniprot_status == \"unreviewed\":\n",
    "                        continue\n",
    "\n",
    "                    if isinstance(uniprot_status, list):\n",
    "                        if uniprot_status:\n",
    "                            shortened_locations = [convert_text(loc) for loc in uniprot_status]\n",
    "                            location_str = \"; \".join(shortened_locations)\n",
    "                        else:\n",
    "                            location_str = f\"https://www.uniprot.org/uniprot/{uniprot_id}\"\n",
    "                    else:\n",
    "                        continue  # Skip if unexpected error\n",
    "\n",
    "                    f.write(f\"{uniprot_id}\\t{location_str}\\n\")\n",
    "\n",
    "        print(f\"Saved: {safe_filename}\\n\")\n",
    "\n"
   ]
  }
 ],
 "metadata": {
  "kernelspec": {
   "display_name": "Python [conda env:base] *",
   "language": "python",
   "name": "conda-base-py"
  },
  "language_info": {
   "codemirror_mode": {
    "name": "ipython",
    "version": 3
   },
   "file_extension": ".py",
   "mimetype": "text/x-python",
   "name": "python",
   "nbconvert_exporter": "python",
   "pygments_lexer": "ipython3",
   "version": "3.12.7"
  }
 },
 "nbformat": 4,
 "nbformat_minor": 5
}
