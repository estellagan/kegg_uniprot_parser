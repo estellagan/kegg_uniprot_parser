{
 "cells": [
  {
   "cell_type": "code",
   "execution_count": 2,
   "id": "e12e3888",
   "metadata": {},
   "outputs": [],
   "source": [
    "import requests\n",
    "from bs4 import BeautifulSoup\n",
    "import re"
   ]
  },
  {
   "cell_type": "code",
   "execution_count": 3,
   "id": "7ff08048",
   "metadata": {},
   "outputs": [],
   "source": [
    "def load_webpage(url):\n",
    "    try:\n",
    "        # Send a GET request to the webpage\n",
    "        response = requests.get(url)\n",
    "\n",
    "        # Check if the request was successful\n",
    "        if response.status_code == 200:\n",
    "            print(\"Webpage loaded successfully!\")\n",
    "\n",
    "            return response.content\n",
    "        else:\n",
    "            print(f\"Failed to load webpage. Status code: {response.status_code}\")\n",
    "            return None\n",
    "    except requests.exceptions.RequestException as e:\n",
    "        print(f\"An error occurred: {e}\")\n",
    "        return None"
   ]
  },
  {
   "cell_type": "code",
   "execution_count": 4,
   "id": "4e824755-281f-49c1-86f2-2ff37911ca0b",
   "metadata": {},
   "outputs": [],
   "source": [
    "def extract_mmu_entries(html):\n",
    "    soup = BeautifulSoup(html, 'html.parser')\n",
    "    # Match hrefs starting with /entry/ followed by one or more mmu:number, separated by +\n",
    "    pattern = re.compile(r'/entry/(mmu:\\d+(?:\\+mmu:\\d+)*)')\n",
    "    \n",
    "    mmu_entries = []\n",
    "    for area in soup.find_all('area', href=True):\n",
    "        match = pattern.search(area['href'])\n",
    "        if match:\n",
    "            mmu_entries.append('/entry/' + match.group(1))\n",
    "    \n",
    "    return mmu_entries\n"
   ]
  },
  {
   "cell_type": "code",
   "execution_count": 5,
   "id": "a4b6fcf5",
   "metadata": {},
   "outputs": [],
   "source": [
    "def get_uniprot_info(accession):\n",
    "    url = f\"https://rest.uniprot.org/uniprotkb/{accession}\"\n",
    "    headers = {\"Accept\": \"application/json\"}\n",
    "    response = requests.get(url, headers=headers)\n",
    "\n",
    "    if response.status_code == 200:\n",
    "        data = response.json()\n",
    "        return data.get(\"entryType\")  # entryType contains 'Reviewed' or 'Unreviewed'\n",
    "    else:\n",
    "        return f\"Error: {response.status_code} - {response.reason}\""
   ]
  },
  {
   "cell_type": "code",
   "execution_count": 6,
   "id": "9f6d9fd5",
   "metadata": {},
   "outputs": [],
   "source": [
    "def get_uniprot_entry_status(accession):\n",
    "    url = f\"https://rest.uniprot.org/uniprotkb/{accession}\"\n",
    "    headers = {\"Accept\": \"application/json\"}\n",
    "    response = requests.get(url, headers=headers)\n",
    "\n",
    "    if response.status_code == 200:\n",
    "        data = response.json()\n",
    "        entry_data = data.get(\"entryType\")  \n",
    "        \n",
    "        if not 'unreviewed' in entry_data.lower():\n",
    "            \n",
    "            locations = []\n",
    "            for comment in data.get(\"comments\", []):\n",
    "                if comment.get(\"commentType\") == \"SUBCELLULAR LOCATION\":\n",
    "                    for subcellular_location in comment.get(\"subcellularLocations\", []):\n",
    "                        location = subcellular_location.get(\"location\", {}).get(\"value\")\n",
    "                        if location:\n",
    "                            locations.append(location)\n",
    "            return locations\n",
    "        else:\n",
    "            return \"unreviewed\"\n",
    "    else:\n",
    "        return f\"Error: {response.status_code} - {response.reason}\""
   ]
  },
  {
   "cell_type": "code",
   "execution_count": 7,
   "id": "2aee0ed3",
   "metadata": {},
   "outputs": [],
   "source": [
    "def convert_text(text):\n",
    "    # Define the mapping of keywords to their replacements\n",
    "    conversion_map = {\n",
    "        r'cytoplasm(?:ic)?': 'Cy',\n",
    "        r'lysosome': 'Ly',\n",
    "        r'mitochondri(?:a|al|ol|on)': 'Mi',\n",
    "        r'nucle(?:us|osome|olus)': 'N',\n",
    "        r'membrane': 'Mem',\n",
    "        r'peroxisome': 'P',\n",
    "        r'golgi apparatus': 'GA',\n",
    "        r'matrix': 'Mat'\n",
    "    }\n",
    "\n",
    "    # Convert text case-insensitively based on the conversion map\n",
    "    for pattern, replacement in conversion_map.items():\n",
    "        text = re.sub(pattern, replacement, text, flags=re.IGNORECASE)\n",
    "\n",
    "    return text"
   ]
  },
  {
   "cell_type": "code",
   "execution_count": 8,
   "id": "91ecf2bf-bb2a-4171-97b8-072c68ab9815",
   "metadata": {},
   "outputs": [],
   "source": [
    "def extract_kegg_pathway_name(html):\n",
    "    soup = BeautifulSoup(html, 'html.parser')\n",
    "    title_tag = soup.find('title')\n",
    "    if title_tag and 'KEGG PATHWAY:' in title_tag.text:\n",
    "        return title_tag.text.split('KEGG PATHWAY:')[-1].strip().split(' - ')[0]\n",
    "    return \"unknown_pathway\"\n"
   ]
  }
 ],
 "metadata": {
  "kernelspec": {
   "display_name": "Python [conda env:base] *",
   "language": "python",
   "name": "conda-base-py"
  },
  "language_info": {
   "codemirror_mode": {
    "name": "ipython",
    "version": 3
   },
   "file_extension": ".py",
   "mimetype": "text/x-python",
   "name": "python",
   "nbconvert_exporter": "python",
   "pygments_lexer": "ipython3",
   "version": "3.12.7"
  }
 },
 "nbformat": 4,
 "nbformat_minor": 5
}
